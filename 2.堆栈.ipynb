{
 "cells": [
  {
   "cell_type": "markdown",
   "metadata": {},
   "source": [
    "# 堆栈"
   ]
  },
  {
   "cell_type": "markdown",
   "metadata": {},
   "source": [
    "### 1.列表实现堆栈"
   ]
  },
  {
   "cell_type": "markdown",
   "metadata": {},
   "source": [
    "#### 优点\n",
    "* 随机访问性强\n",
    "* 查找速度快\n",
    "\n",
    "#### 缺点\n",
    "* 插入和删除效率低\n",
    "* 可能浪费内存\n",
    "* 内存空间要求高，必须有足够的连续内存空间。\n",
    "* 数组大小固定，不能动态拓展"
   ]
  },
  {
   "cell_type": "code",
   "execution_count": 1,
   "metadata": {},
   "outputs": [],
   "source": [
    "class ListStack(object):\n",
    "    def __init__(self):\n",
    "        self.items = []\n",
    "    \n",
    "    def is_empty(self):\n",
    "        if len(self.items) == 0:\n",
    "            print('Stack is Empty')\n",
    "            return True\n",
    "        return False\n",
    "    \n",
    "    def push(self, x):\n",
    "        self.items.insert(0, x)\n",
    "    \n",
    "    def pop(self):\n",
    "        if not self.is_empty():\n",
    "            return self.items.pop(0)\n",
    "    \n",
    "    def top(self):\n",
    "        if not self.is_empty():\n",
    "            return self.items[0]\n",
    "    \n",
    "    @property\n",
    "    def min(self):\n",
    "        if not self.is_empty():\n",
    "            return min(self.items)\n",
    "    \n",
    "    @property\n",
    "    def max(self):\n",
    "        if not self.is_empty():\n",
    "            return max(self.items)"
   ]
  },
  {
   "cell_type": "code",
   "execution_count": 2,
   "metadata": {},
   "outputs": [],
   "source": [
    "stack = ListStack()\n",
    "for i in range(10):\n",
    "    stack.push(i)"
   ]
  },
  {
   "cell_type": "code",
   "execution_count": 3,
   "metadata": {},
   "outputs": [
    {
     "data": {
      "text/plain": [
       "([8, 7, 6, 5, 4, 3, 2, 1, 0], 9, 8, 0, 8)"
      ]
     },
     "execution_count": 3,
     "metadata": {},
     "output_type": "execute_result"
    }
   ],
   "source": [
    "stack.items, stack.pop(), stack.top(), stack.min, stack.max"
   ]
  },
  {
   "cell_type": "markdown",
   "metadata": {},
   "source": [
    "### 2.链表实现堆栈"
   ]
  },
  {
   "cell_type": "markdown",
   "metadata": {},
   "source": [
    "#### 优点\n",
    "* 插入删除速度快\n",
    "* 内存利用率高，不会浪费内存\n",
    "* 大小没有固定，拓展很灵活。\n",
    "\n",
    "#### 缺点\n",
    "* 不能随机查找，必须从第一个开始遍历，查找效率低"
   ]
  },
  {
   "cell_type": "code",
   "execution_count": 4,
   "metadata": {},
   "outputs": [],
   "source": [
    "class LinkNode(object):\n",
    "    def __init__(self, x):\n",
    "        self.val = x\n",
    "        self.next = None\n",
    "\n",
    "class LinkStack(object):\n",
    "    def __init__(self):\n",
    "        self.Top = None\n",
    "        \n",
    "    def is_empty(self):\n",
    "        if self.Top is None:\n",
    "            print('Stack is Empty')\n",
    "            return None\n",
    "        return True\n",
    "        \n",
    "    def push(self, x):\n",
    "        node = LinkNode(x)\n",
    "        node.next = self.Top\n",
    "        self.Top = node\n",
    "        \n",
    "    def pop(self):\n",
    "        if self.is_empty():\n",
    "            val = self.Top.val\n",
    "            self.Top = self.Top.next\n",
    "            return val\n",
    "    \n",
    "    def top(self):\n",
    "        if self.is_empty():\n",
    "            return self.Top.val "
   ]
  },
  {
   "cell_type": "code",
   "execution_count": 5,
   "metadata": {},
   "outputs": [],
   "source": [
    "stack = LinkStack()\n",
    "for i in range(10):\n",
    "    stack.push(i)"
   ]
  },
  {
   "cell_type": "code",
   "execution_count": 6,
   "metadata": {},
   "outputs": [
    {
     "data": {
      "text/plain": [
       "9"
      ]
     },
     "execution_count": 6,
     "metadata": {},
     "output_type": "execute_result"
    }
   ],
   "source": [
    "stack.pop()"
   ]
  }
 ],
 "metadata": {
  "kernelspec": {
   "display_name": "Python 3",
   "language": "python",
   "name": "python3"
  },
  "language_info": {
   "codemirror_mode": {
    "name": "ipython",
    "version": 3
   },
   "file_extension": ".py",
   "mimetype": "text/x-python",
   "name": "python",
   "nbconvert_exporter": "python",
   "pygments_lexer": "ipython3",
   "version": "3.6.6"
  }
 },
 "nbformat": 4,
 "nbformat_minor": 2
}
