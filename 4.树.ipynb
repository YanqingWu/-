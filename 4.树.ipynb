{
 "cells": [
  {
   "cell_type": "markdown",
   "metadata": {},
   "source": [
    "# 树"
   ]
  },
  {
   "cell_type": "markdown",
   "metadata": {},
   "source": [
    "### 1.二叉树的构建"
   ]
  },
  {
   "cell_type": "code",
   "execution_count": 1,
   "metadata": {},
   "outputs": [],
   "source": [
    "class Tree(object):\n",
    "    def __init__(self, x):\n",
    "        self.val = x\n",
    "        self.left = None\n",
    "        self.right = None\n",
    "        \n",
    "def create_tree(lis):\n",
    "    if len(lis) == 0:\n",
    "        return None\n",
    "    \n",
    "    mid = len(lis) // 2\n",
    "    \n",
    "    root = Tree(lis[mid])\n",
    "    root.left = create_tree(lis[: mid])\n",
    "    root.right = create_tree(lis[mid+1: ])\n",
    "    \n",
    "    return root"
   ]
  },
  {
   "cell_type": "code",
   "execution_count": 2,
   "metadata": {},
   "outputs": [],
   "source": [
    "tree = create_tree(range(10))"
   ]
  },
  {
   "cell_type": "markdown",
   "metadata": {},
   "source": [
    "### 2.树的中序遍历"
   ]
  },
  {
   "cell_type": "code",
   "execution_count": 3,
   "metadata": {},
   "outputs": [
    {
     "data": {
      "text/plain": [
       "[0, 1, 2, 3, 4, 5, 6, 7, 8, 9]"
      ]
     },
     "execution_count": 3,
     "metadata": {},
     "output_type": "execute_result"
    }
   ],
   "source": [
    "result = []\n",
    "def MiddlePrint(root):\n",
    "    if root is None:\n",
    "        return None\n",
    "    \n",
    "    if root.left:\n",
    "        MiddlePrint(root.left)\n",
    "    result.append(root.val)\n",
    "    if root.right:\n",
    "        MiddlePrint(root.right)\n",
    "\n",
    "MiddlePrint(tree)\n",
    "result"
   ]
  },
  {
   "cell_type": "markdown",
   "metadata": {},
   "source": [
    "### 3.树的前序遍历"
   ]
  },
  {
   "cell_type": "code",
   "execution_count": 4,
   "metadata": {},
   "outputs": [
    {
     "data": {
      "text/plain": [
       "[5, 2, 1, 0, 4, 3, 8, 7, 6, 9]"
      ]
     },
     "execution_count": 4,
     "metadata": {},
     "output_type": "execute_result"
    }
   ],
   "source": [
    "result = []\n",
    "def LeftPrint(root):\n",
    "    if root is None:\n",
    "        return None\n",
    "    \n",
    "    result.append(root.val)\n",
    "    if root.left:\n",
    "        LeftPrint(root.left)\n",
    "    if root.right:\n",
    "        LeftPrint(root.right)\n",
    "\n",
    "LeftPrint(tree)\n",
    "result"
   ]
  },
  {
   "cell_type": "markdown",
   "metadata": {},
   "source": [
    "### 4.树的后序遍历"
   ]
  },
  {
   "cell_type": "code",
   "execution_count": 5,
   "metadata": {},
   "outputs": [
    {
     "data": {
      "text/plain": [
       "[0, 1, 3, 4, 2, 6, 7, 9, 8, 5]"
      ]
     },
     "execution_count": 5,
     "metadata": {},
     "output_type": "execute_result"
    }
   ],
   "source": [
    "result = []\n",
    "def RightPrint(root):\n",
    "    if root is None:\n",
    "        return None\n",
    "    \n",
    "    if root.left:\n",
    "        RightPrint(root.left)\n",
    "    if root.right:\n",
    "        RightPrint(root.right)\n",
    "    result.append(root.val)\n",
    "\n",
    "RightPrint(tree)\n",
    "result"
   ]
  },
  {
   "cell_type": "markdown",
   "metadata": {},
   "source": [
    "### 5.树的层序遍历"
   ]
  },
  {
   "cell_type": "code",
   "execution_count": 8,
   "metadata": {},
   "outputs": [
    {
     "data": {
      "text/plain": [
       "[5, 2, 8, 1, 4, 7, 9, 0, 3, 6]"
      ]
     },
     "execution_count": 8,
     "metadata": {},
     "output_type": "execute_result"
    }
   ],
   "source": [
    "result = []\n",
    "def LevelPrint(root):\n",
    "    if root is None:\n",
    "        return None\n",
    "    queen = []\n",
    "    queen.append(root)\n",
    "    while queen:\n",
    "        node = queen.pop(0)\n",
    "        result.append(node.val)\n",
    "        if node.left:\n",
    "            queen.append(node.left)\n",
    "        if node.right:\n",
    "            queen.append(node.right)\n",
    "LevelPrint(tree)\n",
    "result"
   ]
  }
 ],
 "metadata": {
  "kernelspec": {
   "display_name": "Python 3",
   "language": "python",
   "name": "python3"
  },
  "language_info": {
   "codemirror_mode": {
    "name": "ipython",
    "version": 3
   },
   "file_extension": ".py",
   "mimetype": "text/x-python",
   "name": "python",
   "nbconvert_exporter": "python",
   "pygments_lexer": "ipython3",
   "version": "3.6.6"
  }
 },
 "nbformat": 4,
 "nbformat_minor": 2
}
