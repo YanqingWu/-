{
 "cells": [
  {
   "cell_type": "markdown",
   "metadata": {},
   "source": [
    "# 排序算法"
   ]
  },
  {
   "cell_type": "markdown",
   "metadata": {},
   "source": [
    "### 1.冒泡排序"
   ]
  },
  {
   "cell_type": "markdown",
   "metadata": {},
   "source": [
    "* 它重复地走访要排序的数列，一次比较两个元素，如果他们的顺序错误就把他们交换过来"
   ]
  },
  {
   "cell_type": "code",
   "execution_count": 1,
   "metadata": {},
   "outputs": [
    {
     "data": {
      "text/plain": [
       "array([3, 4, 5, 5, 6, 7, 8, 8, 8, 9])"
      ]
     },
     "execution_count": 1,
     "metadata": {},
     "output_type": "execute_result"
    }
   ],
   "source": [
    "def bubble_sort(arr):\n",
    "    lens = len(arr)\n",
    "    for i in range(lens):\n",
    "        for j in range(lens-1):\n",
    "            if arr[j+1] < arr[j]:\n",
    "                arr[j], arr[j+1] = arr[j+1], arr[j]\n",
    "    return arr\n",
    "\n",
    "import numpy as np\n",
    "arr = np.random.randint(0, 10, 10)\n",
    "bubble_sort(arr)"
   ]
  },
  {
   "cell_type": "markdown",
   "metadata": {},
   "source": [
    "### 2.选择排序"
   ]
  },
  {
   "cell_type": "markdown",
   "metadata": {},
   "source": [
    "* 每次选出最小的元素放在未排序队列后面"
   ]
  },
  {
   "cell_type": "code",
   "execution_count": 2,
   "metadata": {},
   "outputs": [
    {
     "data": {
      "text/plain": [
       "array([0, 0, 0, 3, 3, 4, 6, 6, 8, 8])"
      ]
     },
     "execution_count": 2,
     "metadata": {},
     "output_type": "execute_result"
    }
   ],
   "source": [
    "def select_sort(arr):\n",
    "    lens = len(arr)\n",
    "    for i in range(lens-1):\n",
    "        for j in range(i+1, lens):\n",
    "            if arr[j] < arr[i]:\n",
    "                arr[j], arr[i] = arr[i], arr[j]\n",
    "                \n",
    "    return arr\n",
    "arr = np.random.randint(0, 10, 10)\n",
    "select_sort(arr)"
   ]
  },
  {
   "cell_type": "markdown",
   "metadata": {},
   "source": [
    "### 3.插入排序"
   ]
  },
  {
   "cell_type": "markdown",
   "metadata": {},
   "source": [
    "* 把数据插入已经排序的数据中"
   ]
  },
  {
   "cell_type": "code",
   "execution_count": 3,
   "metadata": {},
   "outputs": [
    {
     "data": {
      "text/plain": [
       "array([0, 1, 1, 2, 3, 3, 4, 4, 5, 8])"
      ]
     },
     "execution_count": 3,
     "metadata": {},
     "output_type": "execute_result"
    }
   ],
   "source": [
    "def insert_sort(arr):\n",
    "    lens = len(arr)\n",
    "    for i in range(1, lens):\n",
    "        cur = arr[i]\n",
    "        len_sorted = i\n",
    "        while cur < arr[len_sorted-1]:\n",
    "            arr[len_sorted] = arr[len_sorted-1]\n",
    "            len_sorted -= 1\n",
    "            if len_sorted - 1 < 0:\n",
    "                break\n",
    "        arr[len_sorted] = cur\n",
    "    return arr\n",
    "\n",
    "arr = np.random.randint(0, 10, 10)\n",
    "insert_sort(arr)"
   ]
  },
  {
   "cell_type": "markdown",
   "metadata": {},
   "source": [
    "### 4.希尔排序"
   ]
  },
  {
   "cell_type": "markdown",
   "metadata": {},
   "source": [
    "* 插入排序的高效实现，先切分为不同的片段，片段内部再用插入排序，按步长合并，最后合并所有片段"
   ]
  },
  {
   "cell_type": "code",
   "execution_count": 4,
   "metadata": {},
   "outputs": [
    {
     "data": {
      "text/plain": [
       "array([0, 1, 1, 1, 2, 2, 3, 5, 6, 7])"
      ]
     },
     "execution_count": 4,
     "metadata": {},
     "output_type": "execute_result"
    }
   ],
   "source": [
    "def shell_sort(arr, step=3, groups=3):\n",
    "    lens = len(arr)\n",
    "    \n",
    "    while groups > 0:\n",
    "        start = 0\n",
    "        each_group = lens // groups\n",
    "        while start < lens:\n",
    "            end = each_group + start\n",
    "\n",
    "            arr[start: end] = insert_sort(arr[start: end])\n",
    "            start = end\n",
    "            \n",
    "        groups = groups // step\n",
    "    return arr\n",
    "arr = np.random.randint(0, 10, 10)\n",
    "shell_sort(arr)"
   ]
  },
  {
   "cell_type": "markdown",
   "metadata": {},
   "source": [
    "### 5.归并排序"
   ]
  },
  {
   "cell_type": "markdown",
   "metadata": {},
   "source": [
    "* 分治法：先使每个子序列有序，再使子序列段间有序"
   ]
  },
  {
   "cell_type": "code",
   "execution_count": 5,
   "metadata": {},
   "outputs": [
    {
     "data": {
      "text/plain": [
       "[3, 4, 4, 5, 6, 6, 6, 6, 7, 9]"
      ]
     },
     "execution_count": 5,
     "metadata": {},
     "output_type": "execute_result"
    }
   ],
   "source": [
    "def merge(left, right):\n",
    "    res = []\n",
    "    i = j = 0\n",
    "    while i < len(left) and j < len(right):\n",
    "        if left[i] <= right[j]:\n",
    "            res.append(left[i])\n",
    "            i += 1\n",
    "        else:\n",
    "            res.append(right[j])\n",
    "            j += 1\n",
    "    res.extend(left[i: ])\n",
    "    res.extend(right[j: ])\n",
    "    return res\n",
    "    \n",
    "def merge_sort(arr):\n",
    "    if len(arr) == 0:\n",
    "        return None\n",
    "    if len(arr) == 1:\n",
    "        return arr\n",
    "    \n",
    "    mid = len(arr) // 2\n",
    "    left = merge_sort(arr[0: mid])\n",
    "    right = merge_sort(arr[mid: ])\n",
    "    \n",
    "    return merge(left, right)\n",
    "\n",
    "arr = np.random.randint(0, 10, 10)\n",
    "merge_sort(arr)"
   ]
  },
  {
   "cell_type": "markdown",
   "metadata": {},
   "source": [
    "### 6.快速排序"
   ]
  },
  {
   "cell_type": "markdown",
   "metadata": {},
   "source": [
    "* 快速排序算法是一种基于交换的高效的排序算法，是最快的排序算法之一，它采用了 分治法的思想"
   ]
  },
  {
   "cell_type": "code",
   "execution_count": 6,
   "metadata": {},
   "outputs": [
    {
     "data": {
      "text/plain": [
       "array([1, 1, 2, 2, 3, 4, 5, 6, 6, 9])"
      ]
     },
     "execution_count": 6,
     "metadata": {},
     "output_type": "execute_result"
    }
   ],
   "source": [
    "def quick_sort(arr, left, right):\n",
    "    if left >= right:\n",
    "        return\n",
    "    low = left\n",
    "    high = right\n",
    "    pivot = arr[low]\n",
    "    while left < right:\n",
    "        while left < right and arr[right] > pivot:\n",
    "            right -= 1\n",
    "        arr[left] = arr[right]\n",
    "        while left < right and arr[left] <= pivot:\n",
    "            left += 1\n",
    "        arr[left], arr[right] = arr[right], arr[left]\n",
    "    arr[right] = pivot\n",
    "    quick_sort(arr, low, left - 1)\n",
    "    quick_sort(arr, left + 1, high)\n",
    "    return arr\n",
    "\n",
    "arr = np.random.randint(0, 10, 10)\n",
    "quick_sort(arr, 0, len(arr)-1)"
   ]
  },
  {
   "cell_type": "markdown",
   "metadata": {},
   "source": [
    "### 7.堆排序"
   ]
  },
  {
   "cell_type": "markdown",
   "metadata": {},
   "source": [
    "* 建立大根堆或小根堆进行排序"
   ]
  },
  {
   "cell_type": "code",
   "execution_count": 24,
   "metadata": {},
   "outputs": [
    {
     "data": {
      "text/plain": [
       "array([0, 1, 1, 3, 3, 4, 5, 7, 9, 9])"
      ]
     },
     "execution_count": 24,
     "metadata": {},
     "output_type": "execute_result"
    }
   ],
   "source": [
    "def heap_shift(arr, parent, lens):\n",
    "    lchild = 2 * parent\n",
    "    rchild = 2 * parent + 1\n",
    "    max_index = parent\n",
    "\n",
    "    if parent < lens//2:\n",
    "        if lchild < lens and arr[lchild] > arr[max_index]:\n",
    "            max_index = lchild\n",
    "\n",
    "        if rchild < lens and arr[rchild] > arr[max_index]:\n",
    "            max_index = rchild\n",
    "\n",
    "        if max_index is not parent:\n",
    "            arr[parent], arr[max_index] = arr[max_index], arr[parent]\n",
    "            heap_shift(arr, max_index, lens)\n",
    "\n",
    "def build_heap(arr, lens):\n",
    "    for parent in range(lens//2)[::-1]:\n",
    "        heap_shift(arr, parent, lens)\n",
    "    return arr\n",
    "\n",
    "def heap_sort(arr):\n",
    "    lens = len(arr)\n",
    "    arr = build_heap(arr, lens)\n",
    "    for i in range(0, lens)[::-1]:\n",
    "        arr[0], arr[i] = arr[i], arr[0]\n",
    "        heap_shift(arr, 0, i)\n",
    "\n",
    "    return arr\n",
    "\n",
    "arr = np.random.randint(0, 10, 10)\n",
    "heap_sort(arr)"
   ]
  },
  {
   "cell_type": "markdown",
   "metadata": {},
   "source": [
    "### 8.计数排序"
   ]
  },
  {
   "cell_type": "markdown",
   "metadata": {},
   "source": [
    "* 输入数据的范围在 [0,N-1] 之间，则可以开辟一个大小为 N 的数组空间，将输入的数据值转化为键存储在该数组空间中，数组中的元素为该元素出现的个数"
   ]
  },
  {
   "cell_type": "code",
   "execution_count": 31,
   "metadata": {},
   "outputs": [
    {
     "data": {
      "text/plain": [
       "array([0, 4, 5, 6, 6, 6, 6, 7, 9, 9])"
      ]
     },
     "execution_count": 31,
     "metadata": {},
     "output_type": "execute_result"
    }
   ],
   "source": [
    "def count_sort(arr):\n",
    "\n",
    "    bucket = [0] * (max(arr) + 1)\n",
    "    for num in arr:  \n",
    "        bucket[num] += 1\n",
    "    i = 0  \n",
    "    for j in range(len(bucket)):\n",
    "        while bucket[j] > 0:\n",
    "            arr[i] = j\n",
    "            bucket[j] -= 1\n",
    "            i += 1\n",
    "    return arr\n",
    "\n",
    "arr = np.random.randint(0, 10, 10)\n",
    "count_sort(arr)"
   ]
  },
  {
   "cell_type": "markdown",
   "metadata": {},
   "source": [
    "### 9.桶排序"
   ]
  },
  {
   "cell_type": "markdown",
   "metadata": {},
   "source": [
    "* 桶排序是计数排序的升级版。它利用了函数的映射关系，高效与否的关键就在于这个映射函数的确定。"
   ]
  },
  {
   "cell_type": "code",
   "execution_count": 35,
   "metadata": {},
   "outputs": [
    {
     "data": {
      "text/plain": [
       "[1, 1, 3, 4, 5, 6, 9, 9, 9, 9]"
      ]
     },
     "execution_count": 35,
     "metadata": {},
     "output_type": "execute_result"
    }
   ],
   "source": [
    "def bucket_sort(arr, BucketSize = 5):\n",
    "    maxVal, minVal = max(arr), min(arr)\n",
    "    bucketSize = BucketSize \n",
    "    bucketCount = (maxVal - minVal) // bucketSize + 1\n",
    "    buckets = []  \n",
    "    for i in range(bucketCount):\n",
    "        buckets.append([])\n",
    "        \n",
    "    for num in arr:\n",
    "        buckets[(num - minVal) // bucketSize].append(num)\n",
    "    arr = []\n",
    "    \n",
    "    for bucket in buckets:\n",
    "        insert_sort(bucket) # 桶内排序\n",
    "        arr.extend(bucket) \n",
    "    return arr\n",
    "\n",
    "arr = np.random.randint(0, 10, 10)\n",
    "bucket_sort(arr)"
   ]
  },
  {
   "cell_type": "markdown",
   "metadata": {},
   "source": [
    "### 10.基数排序"
   ]
  },
  {
   "cell_type": "markdown",
   "metadata": {},
   "source": [
    "* 先排序个位数，再依次排序十位数，百位数"
   ]
  },
  {
   "cell_type": "code",
   "execution_count": 41,
   "metadata": {},
   "outputs": [
    {
     "data": {
      "text/plain": [
       "array([ 0,  1,  2,  6, 34, 44, 53, 66, 68, 90])"
      ]
     },
     "execution_count": 41,
     "metadata": {},
     "output_type": "execute_result"
    }
   ],
   "source": [
    "def radix_sort(arr):\n",
    "    mod = 10\n",
    "    div = 1\n",
    "    mostBit = len(str(max(arr)))\n",
    "    buckets = [[] for row in range(mod)]\n",
    "    while mostBit:\n",
    "        for num in arr:  \n",
    "            buckets[num // div % mod].append(num)\n",
    "        i = 0 \n",
    "        for bucket in buckets: \n",
    "            while bucket:\n",
    "                arr[i] = bucket.pop(0)\n",
    "                i += 1\n",
    "        div *= 10\n",
    "        mostBit -= 1\n",
    "    return arr\n",
    "\n",
    "arr = np.random.randint(0, 100, 10)\n",
    "radix_sort(arr)"
   ]
  }
 ],
 "metadata": {
  "kernelspec": {
   "display_name": "Python 3",
   "language": "python",
   "name": "python3"
  },
  "language_info": {
   "codemirror_mode": {
    "name": "ipython",
    "version": 3
   },
   "file_extension": ".py",
   "mimetype": "text/x-python",
   "name": "python",
   "nbconvert_exporter": "python",
   "pygments_lexer": "ipython3",
   "version": "3.6.6"
  }
 },
 "nbformat": 4,
 "nbformat_minor": 2
}
