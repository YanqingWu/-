{
 "cells": [
  {
   "cell_type": "markdown",
   "metadata": {},
   "source": [
    "# 队列"
   ]
  },
  {
   "cell_type": "markdown",
   "metadata": {},
   "source": [
    "### 1.列表实现队列"
   ]
  },
  {
   "cell_type": "code",
   "execution_count": 1,
   "metadata": {},
   "outputs": [],
   "source": [
    "class ListQueen(object):\n",
    "    def __init__(self):\n",
    "        self.items = []\n",
    "    \n",
    "    def is_empty(self):\n",
    "        if len(self.items) == 0:\n",
    "            print('Stack is Empty')\n",
    "            return False\n",
    "        return True\n",
    "    \n",
    "    def push(self, x):\n",
    "        self.items.append(x)\n",
    "    \n",
    "    def pop(self):\n",
    "        if self.is_empty():\n",
    "            return self.items.pop(0)\n",
    "    \n",
    "    def head(self):\n",
    "        if self.is_empty():\n",
    "            return self.items[0]\n",
    "    \n",
    "    @property\n",
    "    def min(self):\n",
    "        if self.is_empty():\n",
    "            return min(self.items)\n",
    "    \n",
    "    @property\n",
    "    def max(self):\n",
    "        if self.is_empty():\n",
    "            return max(self.items)"
   ]
  },
  {
   "cell_type": "code",
   "execution_count": 2,
   "metadata": {},
   "outputs": [],
   "source": [
    "queen = ListQueen()\n",
    "for i in range(10):\n",
    "    queen.push(i)"
   ]
  },
  {
   "cell_type": "code",
   "execution_count": 3,
   "metadata": {},
   "outputs": [
    {
     "data": {
      "text/plain": [
       "0"
      ]
     },
     "execution_count": 3,
     "metadata": {},
     "output_type": "execute_result"
    }
   ],
   "source": [
    "queen.head()"
   ]
  },
  {
   "cell_type": "markdown",
   "metadata": {},
   "source": [
    "### 2.链表实现队列"
   ]
  },
  {
   "cell_type": "code",
   "execution_count": 4,
   "metadata": {},
   "outputs": [],
   "source": [
    "class LinkNode(object):\n",
    "    def __init__(self, x):\n",
    "        self.val = x\n",
    "        self.next = None\n",
    "\n",
    "class LinkQueen(object):\n",
    "    def __init__(self):\n",
    "        self.Head = None\n",
    "        self.Tail = None\n",
    "    \n",
    "    def is_empty(self):\n",
    "        if self.Head == None:\n",
    "            print('Queen is Empty')\n",
    "            return True\n",
    "        return False\n",
    "    \n",
    "    def push(self, x):\n",
    "        node = LinkNode(x)\n",
    "        if self.Head is None:\n",
    "            self.Head = node\n",
    "            self.Head.next = self.Tail\n",
    "        self.Tail = node\n",
    "        self.Tail = node.next\n",
    "        \n",
    "    def pop(self):\n",
    "        if not self.is_empty():\n",
    "            val = self.Head.val\n",
    "            self.Head = self.Head.next\n",
    "            return val\n",
    "    \n",
    "    def head(self):\n",
    "        if not self.is_empty():\n",
    "            return self.Head.val"
   ]
  },
  {
   "cell_type": "code",
   "execution_count": 5,
   "metadata": {},
   "outputs": [],
   "source": [
    "queen = LinkQueen()\n",
    "for i in range(10):\n",
    "    queen.push(i)"
   ]
  },
  {
   "cell_type": "code",
   "execution_count": 6,
   "metadata": {},
   "outputs": [
    {
     "data": {
      "text/plain": [
       "0"
      ]
     },
     "execution_count": 6,
     "metadata": {},
     "output_type": "execute_result"
    }
   ],
   "source": [
    "queen.head()"
   ]
  },
  {
   "cell_type": "code",
   "execution_count": 7,
   "metadata": {},
   "outputs": [
    {
     "data": {
      "text/plain": [
       "False"
      ]
     },
     "execution_count": 7,
     "metadata": {},
     "output_type": "execute_result"
    }
   ],
   "source": [
    "queen.is_empty()"
   ]
  },
  {
   "cell_type": "code",
   "execution_count": null,
   "metadata": {},
   "outputs": [],
   "source": []
  }
 ],
 "metadata": {
  "kernelspec": {
   "display_name": "Python 3",
   "language": "python",
   "name": "python3"
  },
  "language_info": {
   "codemirror_mode": {
    "name": "ipython",
    "version": 3
   },
   "file_extension": ".py",
   "mimetype": "text/x-python",
   "name": "python",
   "nbconvert_exporter": "python",
   "pygments_lexer": "ipython3",
   "version": "3.6.6"
  }
 },
 "nbformat": 4,
 "nbformat_minor": 2
}
