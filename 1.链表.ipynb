{
 "cells": [
  {
   "cell_type": "markdown",
   "metadata": {},
   "source": [
    "# 链表"
   ]
  },
  {
   "cell_type": "code",
   "execution_count": 1,
   "metadata": {},
   "outputs": [],
   "source": [
    "class LinkNode(object):\n",
    "    def __init__(self, val):\n",
    "        self.val = val\n",
    "        self.next = None"
   ]
  },
  {
   "cell_type": "markdown",
   "metadata": {},
   "source": [
    "#### 创建头节点"
   ]
  },
  {
   "cell_type": "code",
   "execution_count": 2,
   "metadata": {},
   "outputs": [],
   "source": [
    "def creat_head(lis):\n",
    "    head = LinkNode('head')\n",
    "    tmp = head\n",
    "    for i in lis:\n",
    "        node = LinkNode(i)\n",
    "        tmp.next = node\n",
    "        tmp = node\n",
    "    \n",
    "    return head\n",
    "\n",
    "head = creat_head(range(10))"
   ]
  },
  {
   "cell_type": "markdown",
   "metadata": {},
   "source": [
    "#### 打印头节点"
   ]
  },
  {
   "cell_type": "code",
   "execution_count": 3,
   "metadata": {},
   "outputs": [
    {
     "name": "stdout",
     "output_type": "stream",
     "text": [
      "head -> 0 -> 1 -> 2 -> 3 -> 4 -> 5 -> 6 -> 7 -> 8 -> 9\n"
     ]
    }
   ],
   "source": [
    "def print_head(head):\n",
    "    cur = head\n",
    "    while cur:\n",
    "        if cur.next:\n",
    "            print(cur.val, end=' -> ')\n",
    "        else:\n",
    "            print(cur.val, end='')\n",
    "        cur = cur.next\n",
    "    print()\n",
    "\n",
    "print_head(head)"
   ]
  },
  {
   "cell_type": "markdown",
   "metadata": {},
   "source": [
    "### 1.链表逆序"
   ]
  },
  {
   "cell_type": "code",
   "execution_count": 4,
   "metadata": {},
   "outputs": [
    {
     "name": "stdout",
     "output_type": "stream",
     "text": [
      "head -> 9 -> 8 -> 7 -> 6 -> 5 -> 4 -> 3 -> 2 -> 1 -> 0\n"
     ]
    }
   ],
   "source": [
    "def Reverse(head):\n",
    "    if head == None or head.next == None:\n",
    "        return\n",
    "    \n",
    "    cur = head.next\n",
    "    new_head = LinkNode('head')\n",
    "    \n",
    "    while cur:\n",
    "        tmp = cur.next\n",
    "        cur.next = new_head.next\n",
    "        new_head.next = cur\n",
    "        cur = tmp\n",
    "        \n",
    "    return new_head\n",
    "\n",
    "print_head(Reverse(head))"
   ]
  },
  {
   "cell_type": "markdown",
   "metadata": {},
   "source": [
    "### 2.去除重复节点"
   ]
  },
  {
   "cell_type": "code",
   "execution_count": 5,
   "metadata": {},
   "outputs": [
    {
     "name": "stdout",
     "output_type": "stream",
     "text": [
      "head -> 1 -> 2 -> 3 -> 4\n"
     ]
    }
   ],
   "source": [
    "def delete_duplicate(head):\n",
    "    if head is None or head.next is None:\n",
    "        return head\n",
    "    \n",
    "    before, cur = head, head.next\n",
    "    unique = set()\n",
    "    while cur:\n",
    "        if cur.val not in unique:\n",
    "            unique.add(cur.val)\n",
    "            before = before.next\n",
    "            cur = cur.next\n",
    "        else:\n",
    "            before.next = cur.next\n",
    "            cur = cur.next\n",
    "            \n",
    "    return head\n",
    "\n",
    "head = creat_head([1, 2, 3, 3, 4])\n",
    "print_head(delete_duplicate(head))"
   ]
  },
  {
   "cell_type": "markdown",
   "metadata": {},
   "source": [
    "### 3.两链表相加（个位数在最前面）"
   ]
  },
  {
   "cell_type": "code",
   "execution_count": 6,
   "metadata": {},
   "outputs": [
    {
     "name": "stdout",
     "output_type": "stream",
     "text": [
      "head -> 2 -> 4 -> 6 -> 0 -> 1\n",
      "10642\n"
     ]
    }
   ],
   "source": [
    "def add_links(head1, head2):\n",
    "    if head1 is None:\n",
    "        return head2\n",
    "    if head2 is None:\n",
    "        return head1\n",
    "\n",
    "    head = LinkNode('head')\n",
    "    tmp = head\n",
    "    div_flag = 0\n",
    "\n",
    "    head1 = head1.next\n",
    "    head2 = head2.next\n",
    "\n",
    "    while head1 or head2:  \n",
    "        total = div_flag\n",
    "        if head1:\n",
    "            total += head1.val\n",
    "            head1 = head1.next\n",
    "\n",
    "        if head2:\n",
    "            total += head2.val\n",
    "            head2 = head2.next\n",
    "\n",
    "        tmp.next = LinkNode(total % 10)\n",
    "        div_flag = total // 10\n",
    "        tmp = tmp.next\n",
    "    \n",
    "    # 最后是否进位\n",
    "    if div_flag == 1:\n",
    "        tmp.next = LinkNode(1)\n",
    "    \n",
    "    return head\n",
    "\n",
    "head1 = creat_head([1, 2, 3, 5])\n",
    "head2 = creat_head([1, 2, 3, 5])\n",
    "print_head(add_links(head1, head2))\n",
    "print(5321+5321)"
   ]
  },
  {
   "cell_type": "markdown",
   "metadata": {},
   "source": [
    "### 4.奇偶位置链表分开"
   ]
  },
  {
   "cell_type": "code",
   "execution_count": 7,
   "metadata": {},
   "outputs": [
    {
     "name": "stdout",
     "output_type": "stream",
     "text": [
      "head -> 0 -> 2 -> 4 -> 6 -> 8\n",
      "head -> 1 -> 3 -> 5 -> 7 -> 9\n"
     ]
    }
   ],
   "source": [
    "def split_single_double(head):\n",
    "    cur = head.next\n",
    "    list_1 = []\n",
    "    list_2 = []\n",
    "    i = 0\n",
    "    while cur:\n",
    "        if i % 2 == 0:\n",
    "            list_1.append(cur.val)\n",
    "        if i % 2 == 1:\n",
    "            list_2.append(cur.val)\n",
    "        cur = cur.next\n",
    "        i += 1\n",
    "\n",
    "    return creat_head(list_1), creat_head(list_2)\n",
    "\n",
    "\n",
    "head = creat_head(range(10))\n",
    "head1, head2 = split_single_double(head)\n",
    "print_head(head1)\n",
    "print_head(head2)"
   ]
  },
  {
   "cell_type": "markdown",
   "metadata": {},
   "source": [
    "### 5.倒数K个节点"
   ]
  },
  {
   "cell_type": "code",
   "execution_count": 8,
   "metadata": {},
   "outputs": [
    {
     "name": "stdout",
     "output_type": "stream",
     "text": [
      "7 -> 8 -> 9\n"
     ]
    }
   ],
   "source": [
    "def last_k(head, k):\n",
    "    slow = head\n",
    "    fast = head\n",
    "    i = 0\n",
    "    while i < k:\n",
    "        fast = fast.next\n",
    "        i += 1\n",
    "    while fast:\n",
    "        slow = slow.next\n",
    "        fast = fast.next\n",
    "    return slow\n",
    "\n",
    "head = creat_head(range(10))\n",
    "print_head(last_k(head, 3))"
   ]
  },
  {
   "cell_type": "markdown",
   "metadata": {},
   "source": [
    "### 6.K折翻转"
   ]
  },
  {
   "cell_type": "code",
   "execution_count": 9,
   "metadata": {},
   "outputs": [
    {
     "name": "stdout",
     "output_type": "stream",
     "text": [
      "head -> 2 -> 1 -> 0 -> 5 -> 4 -> 3 -> 8 -> 7 -> 6 -> 10 -> 9\n"
     ]
    }
   ],
   "source": [
    "def ReverseK(head, k):\n",
    "    \n",
    "    def Reverse(head):\n",
    "        if head is None or head.next is None:\n",
    "            return head\n",
    "        \n",
    "        cur = head\n",
    "        new_head = LinkNode('head')\n",
    "\n",
    "        while cur:\n",
    "            tmp = cur.next\n",
    "            cur.next = new_head.next\n",
    "            new_head.next = cur\n",
    "            cur = tmp\n",
    "\n",
    "        return new_head.next\n",
    "    \n",
    "    \n",
    "    start = head.next\n",
    "    newhead_ = LinkNode('head')\n",
    "    newhead = newhead_\n",
    "    i = 1\n",
    "    while start:\n",
    "   \n",
    "        end = start\n",
    "        while i < k and end.next:\n",
    "            end = end.next\n",
    "            i += 1\n",
    "        \n",
    "        new_start = end.next\n",
    "        end.next = None\n",
    "        revesed = Reverse(start)\n",
    "        \n",
    "        newhead.next = revesed\n",
    "        while newhead.next:  \n",
    "            newhead = newhead.next\n",
    "\n",
    "        start = new_start\n",
    "\n",
    "        i = 1\n",
    "\n",
    "    return newhead_\n",
    "\n",
    "head = creat_head(range(11))\n",
    "print_head(ReverseK(head, 3))"
   ]
  },
  {
   "cell_type": "code",
   "execution_count": null,
   "metadata": {},
   "outputs": [],
   "source": []
  }
 ],
 "metadata": {
  "kernelspec": {
   "display_name": "Python 3",
   "language": "python",
   "name": "python3"
  },
  "language_info": {
   "codemirror_mode": {
    "name": "ipython",
    "version": 3
   },
   "file_extension": ".py",
   "mimetype": "text/x-python",
   "name": "python",
   "nbconvert_exporter": "python",
   "pygments_lexer": "ipython3",
   "version": "3.6.6"
  }
 },
 "nbformat": 4,
 "nbformat_minor": 2
}
